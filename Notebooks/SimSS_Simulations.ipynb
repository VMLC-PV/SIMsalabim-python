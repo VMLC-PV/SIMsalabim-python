{
 "cells": [
  {
   "attachments": {},
   "cell_type": "markdown",
   "metadata": {},
   "source": [
    "## Run SimSS simulations and plot the results\n",
    "Version 0.1\n",
    "(c) Vincent M. Le Corre (https://github.com/VMLC-PV)"
   ]
  },
  {
   "cell_type": "code",
   "execution_count": null,
   "metadata": {},
   "outputs": [],
   "source": [
    "# Package import\n",
    "%matplotlib inline\n",
    "%matplotlib widget\n",
    "%matplotlib notebook\n",
    "import os,platform,warnings\n",
    "import numpy as np\n",
    "import matplotlib.pyplot as plt\n",
    "# Import homemade package by VLC\n",
    "from SIMsalabim_utils.RunSim import PrepareSimuInputs, RunSimulation # Run simulation\n",
    "from SIMsalabim_utils.SimSS_plots import PlotJV, PlotJVPerf,PlotNrjDiagSimSS,PlotDensSimSS # Plotting functions\n",
    "from SIMsalabim_utils.CleanFolder import clean_up_output, clean_file_type # Cleaning functions\n",
    "from SIMsalabim_utils import plot_settings_screen # Plot settings\n",
    " \n",
    "## General Inputs\n",
    "warnings.filterwarnings(\"ignore\")           # Don't show warnings\n",
    "system = platform.system()                  # Operating system\n",
    "max_jobs = os.cpu_count()-2                 # Max number of parallel simulations (for number of CPU use: os.cpu_count() )\n",
    "do_multiprocessing = True                      # Use multiprocessing\n",
    "if system == 'Windows':                     # cannot easily do multiprocessing in Windows\n",
    "        max_jobs = 1\n",
    "        do_multiprocessing = False\n",
    "        try:                                # kill all running jobs to avoid conflicts\n",
    "            os.system('taskkill.exe /F /IM simss.exe')\n",
    "        except:\n",
    "            pass\n",
    "\n",
    "# Path to SIMsalabim\n",
    "path2simu = os.path.join(os.getcwd() ,'SIMsalabim','SimSS')\n"
   ]
  },
  {
   "cell_type": "code",
   "execution_count": null,
   "metadata": {},
   "outputs": [],
   "source": [
    "# Prepare the command strings to run\n",
    "fixed_str = ''\n",
    "parameters = []\n",
    "Gfrac = list(np.geomspace(1e-2,1,3))\n",
    "parameters.append({'name':'Gfrac','values':Gfrac})\n",
    "\n",
    "Simulation_Inputs = PrepareSimuInputs(path2simu,parameters=parameters,fixed_str=fixed_str,CodeName = 'SimSS',verbose=True) # creates all necessary list inputs\n",
    "\n",
    "RunSimulation(Simulation_Inputs,max_jobs=max_jobs,do_multiprocessing=do_multiprocessing,verbose=True) # runs the simulations\n"
   ]
  },
  {
   "cell_type": "code",
   "execution_count": null,
   "metadata": {},
   "outputs": [],
   "source": [
    "# Make JV plots\n",
    "str_lst,JV_files,Var_files,scPars_files,code_name_lst,path_lst,labels = Simulation_Inputs\n",
    "colors = plt.cm.viridis(np.linspace(0,1,max(len(str_lst),3)+1)) # prepare color for plots\n",
    "\n",
    "PlotJV(JV_files, labels=labels,colors=colors,num_fig=0,plot_type=0,x='Vext',y=['Jext'],legend=False,xlimits=[0,1.4],ylimits=[-25,1e1],x_unit='V',y_unit='mA/cm^2',save_fig=True,fig_name=os.path.join(path2simu,'JV.png'),mark='',line_type = ['-'])\n"
   ]
  },
  {
   "cell_type": "code",
   "execution_count": null,
   "metadata": {},
   "outputs": [],
   "source": [
    "# Plot performance\n",
    "PlotJVPerf(Gfrac, scPars_files,y='PCE',Gfrac=Gfrac,plot_type=1,xlimits=[],ylimits=[],xlabel='Light Intensity [suns]',ylabel='PCE [%]',legend='',num_fig=1,mark='o',line_type = ['-'],norm_plot=False,fig_name=os.path.join(path2simu,'JV_perf.png'))\n"
   ]
  },
  {
   "cell_type": "code",
   "execution_count": null,
   "metadata": {},
   "outputs": [],
   "source": [
    "# Make Energy diagram plots\n",
    "PlotNrjDiag = True\n",
    "if PlotNrjDiag:\n",
    "    PlotNrjDiagSimSS([Var_files[-1]],labels,path2simu,colors=[],num_fig=2,Vext='nan',Background_color=True,show_axis=True,legend=True,fig_name=os.path.join(path2simu,'energy_diagram.jpg'),save_fig=False)\n"
   ]
  },
  {
   "cell_type": "code",
   "execution_count": null,
   "metadata": {},
   "outputs": [],
   "source": [
    "# Make density plots\n",
    "PlotDens = True\n",
    "if PlotDens:\n",
    "    # plot one file at all voltages\n",
    "    PlotDensSimSS([Var_files[0]],labels,colors,num_fig=3,Vext=['all'],y=['n','p'],xlimits=[],ylimits=[1e8,1e22],x_unit='nm',y_unit='cm^-3',plot_type=2,colorbar_type='lin',colorbar_display=True,line_type = ['-','--'],legend=True,save_fig=True,fig_name=os.path.join(path2simu,'density.jpg'),verbose=False)\n",
    "\n",
    "    # plot all files at one voltage\n",
    "    colors = plt.cm.viridis(np.linspace(0,1,max(len(str_lst),3)+1))\n",
    "\n",
    "    PlotDensSimSS(Var_files,labels,colors=colors,num_fig=4,Vext=[0.6],y=['n','p'],xlimits=[],ylimits=[1e8,1e22],x_unit='nm',y_unit='cm^-3',plot_type=2,colorbar_type='lin',colorbar_display=False,line_type = ['-','--'],legend=True,save_fig=True,fig_name=os.path.join(path2simu,'density.jpg'),verbose=False)\n"
   ]
  },
  {
   "cell_type": "code",
   "execution_count": null,
   "metadata": {},
   "outputs": [],
   "source": [
    "# Clean output files from simulation folders\n",
    "Do_Cleaning = True # Careful, this will delete all files in the folder\n",
    "if Do_Cleaning:\n",
    "    clean_up_output('tj',path2simu)\n",
    "    clean_up_output('tVG',path2simu)\n",
    "    clean_up_output('JV',path2simu)\n",
    "    clean_up_output('Var',path2simu)\n",
    "    clean_up_output('scPars',path2simu)\n",
    "    clean_up_output('log',path2simu)\n",
    "    clean_up_output('Str4Parallel',path2simu)\n",
    "    clean_up_output('joblog',path2simu)\n",
    "    clean_file_type('.jpg',path2simu) # clean all jpg files\n",
    "    clean_file_type('.png',path2simu) # clean all png files\n",
    "    "
   ]
  }
 ],
 "metadata": {
  "kernelspec": {
   "display_name": "base",
   "language": "python",
   "name": "python3"
  },
  "language_info": {
   "codemirror_mode": {
    "name": "ipython",
    "version": 3
   },
   "file_extension": ".py",
   "mimetype": "text/x-python",
   "name": "python",
   "nbconvert_exporter": "python",
   "pygments_lexer": "ipython3",
   "version": "3.9.16"
  },
  "orig_nbformat": 4,
  "vscode": {
   "interpreter": {
    "hash": "ad2bdc8ecc057115af97d19610ffacc2b4e99fae6737bb82f5d7fb13d2f2c186"
   }
  }
 },
 "nbformat": 4,
 "nbformat_minor": 2
}
