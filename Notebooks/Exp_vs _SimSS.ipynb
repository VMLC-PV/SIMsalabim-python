{
 "cells": [
  {
   "attachments": {},
   "cell_type": "markdown",
   "metadata": {},
   "source": [
    "## Run SimSS simulations and plot the results\n",
    "Version 0.1\n",
    "(c) Vincent M. Le Corre (https://github.com/VMLC-PV)"
   ]
  },
  {
   "cell_type": "code",
   "execution_count": null,
   "metadata": {},
   "outputs": [],
   "source": [
    "# Package import\n",
    "%matplotlib inline\n",
    "%matplotlib widget\n",
    "%matplotlib notebook\n",
    "import os,platform,warnings,itertools\n",
    "import pandas as pd\n",
    "import numpy as np\n",
    "import matplotlib.pyplot as plt\n",
    "import matplotlib.lines as mlines\n",
    "# Import homemade package by VLC\n",
    "from SIMsalabim_utils.RunSim import PrepareSimuInputs, RunSimulation # Run simulation\n",
    "from SIMsalabim_utils.SimSS_plots import PlotJV, PlotJVPerf,PlotNrjDiagSimSS,PlotDensSimSS # Plotting functions\n",
    "from SIMsalabim_utils.CleanFolder import clean_up_output, clean_file_type # Cleaning functions\n",
    "from SIMsalabim_utils import plot_settings_screen # Plot settings\n",
    "from SIMsalabim_utils.aux_func import * # Plot settings\n",
    "\n",
    "\n",
    "## General Inputs\n",
    "warnings.filterwarnings(\"ignore\")           # Don't show warnings\n",
    "system = platform.system()                  # Operating system\n",
    "max_jobs = os.cpu_count()-2                 # Max number of parallel simulations (for number of CPU use: os.cpu_count() )\n",
    "do_multiprocessing = True                      # Use multiprocessing\n",
    "if system == 'Windows':                     # cannot easily do multiprocessing in Windows\n",
    "        max_jobs = 1\n",
    "        do_multiprocessing = False\n",
    "        try:                                # kill all running jobs to avoid conflicts\n",
    "            os.system('taskkill.exe /F /IM simss.exe')\n",
    "        except:\n",
    "            pass\n",
    "\n",
    "# Path to SIMsalabim\n",
    "path2simu = os.path.join(os.getcwd() ,'SIMsalabim','SimSS')"
   ]
  },
  {
   "cell_type": "code",
   "execution_count": null,
   "metadata": {},
   "outputs": [],
   "source": [
    "# Prepare the command strings to run\n",
    "#First, we need to create a list of the filenames containing the experimental data\n",
    "path2data = os.path.join(os.getcwd(),'Example_Data','Perovskite_examples','Valencia')\n",
    "ExpDataNames = [os.path.join(path2data,'01sun_fwd.dat'),os.path.join(path2data,'032sun_fwd.dat'),os.path.join(path2data,'05sun_fwd.dat'),os.path.join(path2data,'079sun_fwd.dat'),os.path.join(path2data,'082sun_fwd.dat')]\n",
    "\n",
    "#Then, we need to create a list with the strings to run the simulations (results from your fits)\n",
    "str_lst = ['-Gfrac 0.1','-Gfrac 0.32','-Gfrac 0.5','-Gfrac 0.79','-Gfrac 0.82']\n",
    "\n",
    "# Prepare custom labels\n",
    "labels = ['Gfrac = 0.1','Gfrac = 0.32','Gfrac = 0.5','Gfrac = 0.79','Gfrac = 0.82']\n",
    "\n",
    "Gfrac = [0.1,0.32,0.5,0.79,0.82]\n",
    "# Prepare necessary lists for the RunSimulation function\n",
    "JV_files,Var_files,scPars_files,code_name_lst,path_lst = [],[],[],[],[]\n",
    "for i in range(len(str_lst)):\n",
    "    JV = 'JV_' + str(i) + '.dat'\n",
    "    Var = 'Var_' + str(i) + '.dat'\n",
    "    scPar = 'scPar_' + str(i) + '.dat'\n",
    "    str_lst[i] = str_lst[i] + ' -JV_file ' + JV + ' -Var_file ' + Var + ' -scPars_file ' + scPar\n",
    "    JV_files.append(os.path.join(path2simu,JV))\n",
    "    Var_files.append(os.path.join(path2simu,Var))\n",
    "    scPars_files.append(os.path.join(path2simu,scPar))\n",
    "    code_name_lst.append('SimSS')\n",
    "    path_lst.append(path2simu)\n",
    "\n",
    "\n",
    "Simulation_Inputs = str_lst,JV_files,Var_files,scPars_files,code_name_lst,path_lst,labels\n",
    "\n",
    "# Run the simulations\n",
    "run_simu = False\n",
    "if run_simu:\n",
    "    RunSimulation(Simulation_Inputs,max_jobs=max_jobs,do_multiprocessing=do_multiprocessing,verbose=True) # runs the simulations\n"
   ]
  },
  {
   "cell_type": "code",
   "execution_count": null,
   "metadata": {},
   "outputs": [],
   "source": [
    "# Make JV plots\n",
    "# Plot the JV curves\n",
    "colors = plt.cm.viridis(np.linspace(0,1,max(len(str_lst),3)+1)) # prepare color for plots\n",
    "\n",
    "# plot lin-log JV\n",
    "f = plt.figure(1,figsize=(10,10))\n",
    "\n",
    "ax = PlotJV(JV_files, labels=labels,colors = colors,num_fig=1,plot_type=0,x='Vext',y=['Jext'],legend=True,xlimits=[-0.2,1.2],ylimits=[-20,20],x_unit='V',y_unit='mA/cm^2',save_fig=True,fig_name=os.path.join(path2simu,'JV.png'),mark='',line_type = ['-'],show_fig=False)\n",
    "PlotJV(ExpDataNames,labels=labels,colors = colors,ax=ax,num_fig=1,plot_type=0,x='V',y=['J'],legend=False,xlimits=[-0.2,1.2],ylimits=[-20,20],x_unit='V',y_unit='mA/cm^2',save_fig=True,fig_name=os.path.join(path2simu,'JV.png'),mark='o',line_type = ['None'])\n"
   ]
  },
  {
   "cell_type": "code",
   "execution_count": null,
   "metadata": {},
   "outputs": [],
   "source": [
    "# Plot performance\n",
    "Gfracs = [0.1,0.32,0.5,0.79,0.82]\n",
    "plot_perf = True\n",
    "if plot_perf:\n",
    "    PlotJVPerf(Gfracs, scPars_files,y='PCE',Gfrac=Gfrac,plot_type=1,xlimits=[],ylimits=[],xlabel='Light Intensity [suns]',ylabel='PCE [%]',legend='',num_fig=5,mark='o',line_type = ['-'],norm_plot=False,fig_name=os.path.join(path2simu,'JV_perf.png'))\n",
    "\n",
    "    PCE_exp,Voc_exp,Jsc_exp,FF_exp = [],[],[],[]\n",
    "    for i,G in zip(ExpDataNames,Gfracs):\n",
    "        JV = pd.read_csv(i,delim_whitespace=True)\n",
    "        PCE_exp.append(get_PCE(JV['V'],JV['J'],G)/10)\n",
    "        Voc_exp.append(get_Voc(JV['V'],JV['J']))\n",
    "        Jsc_exp.append(-get_Jsc(JV['V'],JV['J']))\n",
    "        FF_exp.append(get_FF(JV['V'],JV['J']))\n",
    "\n",
    "    plt.plot(Gfracs,PCE_exp,'o')\n",
    "\n",
    "    PlotJVPerf(Gfracs, scPars_files,y='Voc',Gfrac=Gfracs,plot_type=1,xlimits=[],ylimits=[],xlabel='Light Intensity [suns]',ylabel='V$_{OC}$',legend='',num_fig=6,mark='o',line_type = ['-'],norm_plot=False,fig_name=os.path.join(path2simu,'JV_perf.png'))\n",
    "    plt.plot(Gfracs,Voc_exp,'o')\n",
    "\n",
    "    PlotJVPerf(Gfracs, scPars_files,y='Jsc',Gfrac=Gfracs,plot_type=3,xlimits=[],ylimits=[],xlabel='Light Intensity [suns]',ylabel='J$_{SC}$',legend='',num_fig=7,mark='o',line_type = ['-'],norm_plot=False,fig_name=os.path.join(path2simu,'JV_perf.png'))\n",
    "    plt.plot(Gfracs,Jsc_exp,'o')\n",
    "\n",
    "    PlotJVPerf(Gfracs, scPars_files,y='FF',Gfrac=Gfracs,plot_type=1,xlimits=[],ylimits=[],xlabel='Light Intensity [suns]',ylabel='FF',legend='',num_fig=8,mark='o',line_type = ['-'],norm_plot=False,fig_name=os.path.join(path2simu,'JV_perf.png'))\n",
    "    plt.plot(Gfracs,FF_exp,'o')\n",
    "\n"
   ]
  },
  {
   "cell_type": "code",
   "execution_count": null,
   "metadata": {},
   "outputs": [],
   "source": [
    "# Clean output files from simulation folders\n",
    "Do_Cleaning = False # Careful, this will delete all files in the folder\n",
    "if Do_Cleaning:\n",
    "    clean_up_output('tj',path2simu)\n",
    "    clean_up_output('tVG',path2simu)\n",
    "    clean_up_output('JV',path2simu)\n",
    "    clean_up_output('Var',path2simu)\n",
    "    clean_up_output('scPars',path2simu)"
   ]
  }
 ],
 "metadata": {
  "kernelspec": {
   "display_name": "base",
   "language": "python",
   "name": "python3"
  },
  "language_info": {
   "codemirror_mode": {
    "name": "ipython",
    "version": 3
   },
   "file_extension": ".py",
   "mimetype": "text/x-python",
   "name": "python",
   "nbconvert_exporter": "python",
   "pygments_lexer": "ipython3",
   "version": "3.9.16"
  },
  "orig_nbformat": 4,
  "vscode": {
   "interpreter": {
    "hash": "ad2bdc8ecc057115af97d19610ffacc2b4e99fae6737bb82f5d7fb13d2f2c186"
   }
  }
 },
 "nbformat": 4,
 "nbformat_minor": 2
}
