{
 "cells": [
  {
   "attachments": {},
   "cell_type": "markdown",
   "metadata": {},
   "source": [
    "## Set-up device parameter file\n",
    "Version 0.1\n",
    "(c) Vincent M. Le Corre (https://github.com/VMLC-PV)"
   ]
  },
  {
   "cell_type": "code",
   "execution_count": null,
   "metadata": {},
   "outputs": [],
   "source": [
    "# Package import\n",
    "%matplotlib inline\n",
    "%matplotlib widget\n",
    "%matplotlib notebook\n",
    "import os\n",
    "import matplotlib.pyplot as plt\n",
    "import numpy as np\n",
    "# Import homemade package by VLC\n",
    "import SIMsalabim_utils as SIM\n",
    "# from SIMsalabim_utils import MakeDevParFile,GetInputPar,PlotInputPar\n"
   ]
  },
  {
   "cell_type": "code",
   "execution_count": null,
   "metadata": {},
   "outputs": [],
   "source": [
    "# Path to the SIMsalabim program\n",
    "path2simu = os.path.join(os.getcwd() , 'SIMsalabim/SimSS')\n",
    "\n",
    "# Load Device parameters file and update parameters\n",
    "ParFileDic = SIM.ReadParameterFile(os.path.join(path2simu, 'device_parameters.txt')) # read the parameters from the file\n",
    "\n",
    "# Change parameters in the dictionary\n",
    "ParFileDic['L_LTL'] = 10e-9\n",
    "\n",
    "MakeUpdate = False\n",
    "if MakeUpdate:\n",
    "    SIM.UpdateDevParFile(ParFileDic, path2simu) # update the parameters in the file\n",
    "\n"
   ]
  },
  {
   "cell_type": "code",
   "execution_count": null,
   "metadata": {},
   "outputs": [],
   "source": [
    "# Visualize the parameters\n",
    "fig, axs = plt.subplots(2,2,figsize = (10,8))\n",
    "SIM.plot_input_nrj_diag(ParFileDic,ax=axs[0, 0])\n",
    "SIM.plot_input_mob(ParFileDic,ax=axs[0, 1])\n",
    "SIM.plot_input_dens(ParFileDic,ax=axs[1, 0])\n",
    "SIM.plot_input_SRH_lifetime(ParFileDic,ax=axs[1, 1],y_unit='ns',y2_unit='cm')\n",
    "plt.tight_layout()"
   ]
  }
 ],
 "metadata": {
  "kernelspec": {
   "display_name": "base",
   "language": "python",
   "name": "python3"
  },
  "language_info": {
   "codemirror_mode": {
    "name": "ipython",
    "version": 3
   },
   "file_extension": ".py",
   "mimetype": "text/x-python",
   "name": "python",
   "nbconvert_exporter": "python",
   "pygments_lexer": "ipython3",
   "version": "3.9.16"
  },
  "orig_nbformat": 4,
  "vscode": {
   "interpreter": {
    "hash": "ad2bdc8ecc057115af97d19610ffacc2b4e99fae6737bb82f5d7fb13d2f2c186"
   }
  }
 },
 "nbformat": 4,
 "nbformat_minor": 2
}
